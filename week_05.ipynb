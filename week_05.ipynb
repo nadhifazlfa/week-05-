{
  "nbformat": 4,
  "nbformat_minor": 0,
  "metadata": {
    "colab": {
      "provenance": [],
      "authorship_tag": "ABX9TyP1GF9u7xWD+ONOSLy/CG9j",
      "include_colab_link": true
    },
    "kernelspec": {
      "name": "python3",
      "display_name": "Python 3"
    },
    "language_info": {
      "name": "python"
    }
  },
  "cells": [
    {
      "cell_type": "markdown",
      "metadata": {
        "id": "view-in-github",
        "colab_type": "text"
      },
      "source": [
        "<a href=\"https://colab.research.google.com/github/nadhifazlfa/week-05-/blob/main/week_05.ipynb\" target=\"_parent\"><img src=\"https://colab.research.google.com/assets/colab-badge.svg\" alt=\"Open In Colab\"/></a>"
      ]
    },
    {
      "cell_type": "code",
      "source": [
        "if condition_1:\n",
        "    if condition_1_a:\n",
        "        ...\n",
        "    elif condition_1_b:\n",
        "        ...\n",
        "    else:\n",
        "        ...\n",
        "    elif condition_2:\n",
        "        if condition_2_a:\n",
        "        ...\n",
        "        else:\n",
        "        ...\n",
        "    elif condition_3_a:\n",
        "        ...\n",
        "    else:\n",
        "      ...\n",
        ""
      ],
      "metadata": {
        "id": "NmQR1PqbLdji"
      },
      "execution_count": null,
      "outputs": []
    },
    {
      "cell_type": "code",
      "execution_count": null,
      "metadata": {
        "colab": {
          "base_uri": "https://localhost:8080/"
        },
        "id": "S7ELag3slDQR",
        "outputId": "88b490da-7b2f-4e60-c0db-56e5ac7e8b64"
      },
      "outputs": [
        {
          "output_type": "stream",
          "name": "stdout",
          "text": [
            "The number is positive.\n"
          ]
        }
      ],
      "source": [
        "num = 5\n",
        "ss\n",
        "if num > 0:\n",
        "    print(\"The number is positive.\")\n",
        "else:\n",
        "    if num < 0:\n",
        "       print(\"The number is negative.\")\n",
        "    else:\n",
        "       print(\"The number is zero."
      ]
    },
    {
      "cell_type": "code",
      "source": [
        "# Example 2 : Age classifier\n",
        "age = 35\n",
        "\n",
        "if age >= 60:\n",
        "   print(\"You are a senior citizen.\")\n",
        "else:\n",
        "  if age >= 18:\n",
        "    print(\"You are an adult.\")\n",
        "  else:\n",
        "    print(\"You are a teenager.\")"
      ],
      "metadata": {
        "colab": {
          "base_uri": "https://localhost:8080/"
        },
        "id": "ztfweyZPocCl",
        "outputId": "6e9f13e7-50d4-430b-e5a3-6c3b1a7a0905"
      },
      "execution_count": null,
      "outputs": [
        {
          "output_type": "stream",
          "name": "stdout",
          "text": [
            "You are an adult.\n"
          ]
        }
      ]
    },
    {
      "cell_type": "code",
      "source": [
        "# Weekly Exercise 1\n",
        "# Membuat kode program apakah angka merupakan tahun kabisat atau bukan\n",
        "\n",
        "tahun = int(input(\"tahun\"))\n",
        "if tahun % 4 == 0:\n",
        "  print(tahun,\"tahun kabisat\")\n",
        "else:\n",
        "  print(tahun,\"bukan tahun kabisat\")\n"
      ],
      "metadata": {
        "colab": {
          "base_uri": "https://localhost:8080/"
        },
        "id": "_dUaq2wwpUHb",
        "outputId": "179feb29-fc24-47d8-f702-0e1494edb5cb"
      },
      "execution_count": null,
      "outputs": [
        {
          "output_type": "stream",
          "name": "stdout",
          "text": [
            "tahun2024\n",
            "2024 tahun kabisat\n"
          ]
        }
      ]
    },
    {
      "cell_type": "code",
      "source": [
        "# Weekly Exercise 2\n",
        "# Membuat kode program untuk menunjukkan angka terbesar berdasarkan tiga angka yang diinput\n",
        "\n",
        "x = int(input(\"angka1: \"))\n",
        "y = int(input(\"angka2: \"))\n",
        "z = int(input(\"angka3: \"))\n",
        "\n",
        "if x > y and x > z:\n",
        "  print(\"angka terbesar adalah\", x)\n",
        "elif y > x and y > z:\n",
        "  print(\"angka terbesar adalah\", y)\n",
        "else:\n",
        "  print(\"angka terbesar adalah\", z)\n",
        "\n",
        "\n",
        "\n",
        "\n"
      ],
      "metadata": {
        "colab": {
          "base_uri": "https://localhost:8080/"
        },
        "id": "5-KCLZNyv2Mj",
        "outputId": "0026b655-9f8d-42d0-bea2-b70bd400769b"
      },
      "execution_count": 1,
      "outputs": [
        {
          "output_type": "stream",
          "name": "stdout",
          "text": [
            "angka1: 12\n",
            "angka2: 14\n",
            "angka3: 16\n",
            "angka terbesar adalah 16\n"
          ]
        }
      ]
    },
    {
      "cell_type": "code",
      "source": [
        "# Weekly Exercise 3\n",
        "# Membuat kode program untuk menghitung jumlah yang harus dibayarkan konsumen\n",
        "\n",
        "jenis = input(\"jenis konsumen : \")\n",
        "belanja = float(input(\"Total belanja : \"))\n",
        "\n",
        "if belanja > 100.000:\n",
        "  diskon = 0.03\n",
        "  if jenis == \"member\":\n",
        "    diskon += 0.02\n",
        "elif belanja > 200.000:\n",
        "  diskon = 0.04\n",
        "  if jenis == \"member\":\n",
        "    diskon += 0.02\n",
        "\n",
        "totalbelanja = belanja-belanja*diskon\n",
        "print(f\"Total yang harus dibayarkan : Rp{totalbelanja:.2f}\")\n",
        "\n",
        "\n"
      ],
      "metadata": {
        "colab": {
          "base_uri": "https://localhost:8080/"
        },
        "id": "k-e6qbz01G08",
        "outputId": "db7a2b01-0b34-40a1-eba8-5395df97bc0c"
      },
      "execution_count": null,
      "outputs": [
        {
          "output_type": "stream",
          "name": "stdout",
          "text": [
            "jenis konsumen : member\n",
            "Total belanja : 250000\n",
            "Total yang harus dibayarkan : Rp237500.00\n"
          ]
        }
      ]
    },
    {
      "cell_type": "code",
      "source": [
        "# Weekly Exercise 4\n",
        "# Membuat kode program untuk membuat user baru\n",
        "\n",
        "username = input (\"masukkan username : \")\n",
        "email = input(\"masukkan email : \")\n",
        "password = input(\"masukkan password : \")\n",
        "\n",
        "if len(username) == 0:\n",
        "  print(\"username tidak boleh\")\n",
        "else:\n",
        "  if \"@\" not in email:\n",
        "    print(\"alamat email tidak valid\")\n",
        "  else:\n",
        "    if len(password) < 8:\n",
        "        print(\"password harus memiliki minimal 8 karakter\")\n",
        "    else:\n",
        "      print(\"Registrasi berhasil\")\n",
        "      print(\"username :\", username)\n",
        "      print(\"email :\", email)\n",
        "      print(\"password :\", password)"
      ],
      "metadata": {
        "colab": {
          "base_uri": "https://localhost:8080/"
        },
        "id": "fkLzNQcOZC61",
        "outputId": "fd0b1df0-2963-4100-f52d-8248bb0102bb"
      },
      "execution_count": null,
      "outputs": [
        {
          "output_type": "stream",
          "name": "stdout",
          "text": [
            "masukkan username : nadhifa \n",
            "masukkan email : nazazalfa23@gmail.com \n",
            "masukkan password : seninselasa\n",
            "Registrasi berhasil\n",
            "username : nadhifa \n",
            "email : nazazalfa23@gmail.com \n",
            "password : seninselasa\n"
          ]
        }
      ]
    }
  ]
}